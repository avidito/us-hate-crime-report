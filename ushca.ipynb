{
 "cells": [
  {
   "cell_type": "markdown",
   "metadata": {},
   "source": [
    "<a name='top'></a>\n",
    "# US Hate Crime Analysis"
   ]
  },
  {
   "cell_type": "markdown",
   "metadata": {},
   "source": [
    "## Table of Contents\n",
    "1. [Background](#background)\n",
    "2. [Inspiration](#inspiration)\n",
    "3. [Methodologies](#methodologies)\n",
    "    - [Data Extraction](#data-extraction)\n",
    "    - [Data Exploration](#data-exploration)\n",
    "    - [Data Preprocessing](#data-preprocessing)\n",
    "    - [Data Visualization](#data-visualization)\n",
    "4. [Poster](#poster)"
   ]
  },
  {
   "cell_type": "markdown",
   "metadata": {},
   "source": [
    "<a name='background'></a>\n",
    "## Background\n",
    "[`^ back to top`](#top)"
   ]
  },
  {
   "cell_type": "markdown",
   "metadata": {},
   "source": [
    "[**Hate crime**](https://en.wikipedia.org/wiki/Hate_crime), also known as bias-motivated crime, is a crime motivated by prejudice or intolerance toward an individual's membership (or perceived membership) to a  group. For example, one of the victims of hate-crime was attacked for having dark color skin. Unfortunately, this kind of crime slowly became an everyday thing. Discrimination and racism keep increasing even though the majority of the public is protesting against these constantly. This analysis project will show some of the hate-crime characteristics in the US from 2010 to 2018. The US was chosen because the US government open the reported hate crimes incident to the public. The sources of data are mention below."
   ]
  },
  {
   "cell_type": "markdown",
   "metadata": {},
   "source": [
    "<a name='inspiration'></a>\n",
    "## Inspiration\n",
    "[`^ back to top`](#top)"
   ]
  },
  {
   "cell_type": "markdown",
   "metadata": {},
   "source": [
    "1. How US hate crime trends in 2010 to 2018?\n",
    "2. What are the biases that used in US hate crime incidents?\n",
    "3. What are the criminal acts committed in US hate crime incidents?"
   ]
  },
  {
   "cell_type": "markdown",
   "metadata": {},
   "source": [
    "<a name='methodologies'></a>\n",
    "## Methodologies\n",
    "[`^ back to top`](#top)"
   ]
  },
  {
   "cell_type": "markdown",
   "metadata": {},
   "source": [
    "This analysis consist of several steps:\n",
    "\n",
    "<br>![methodologies](images/methodologies.png)<br>\n",
    "\n",
    "This analysis will be using three tools:\n",
    "1. **Python 3.7 in Jupyter Notebook (Anaconda)**, for data extraction and preprocessing.\n",
    "2. **Excel 365**, for data visualization.\n",
    "3. **Powerpoint 365**, for creating the report poster."
   ]
  },
  {
   "cell_type": "markdown",
   "metadata": {},
   "source": [
    "<a name='data-extraction'></a>\n",
    "### I. Data Extraction\n",
    "[`^ back to top`](#top)"
   ]
  },
  {
   "cell_type": "markdown",
   "metadata": {},
   "source": [
    "Raw data can be gathered from [FBI: Crime Data Explorer](https://crime-data-explorer.fr.cloud.gov/downloads-and-docs). In this analysis, I use preprocessed data \n",
    "Data obtained from [United States Hate Crimes (1991-2018)](https://www.kaggle.com/louissebye/united-states-hate-crimes-19912017) that preprocessed and posted by [Louisse Bye](https://www.kaggle.com/louissebye). This data consist of several files:\n",
    "\n",
    "|File Name|Description|\n",
    "|:---|:---|\n",
    "|hate_crime.csv|Tabular data about each reported hate crime incidents|\n",
    "|HC Readme.docx|Provide further information about technical definitions used in dataset|\n",
    "|NIBRS_DataDictionary.pdf|Data dictionary to provide definitions/information|"
   ]
  },
  {
   "cell_type": "code",
   "execution_count": 11,
   "metadata": {},
   "outputs": [],
   "source": [
    "# Library\n",
    "import numpy as np\n",
    "import pandas as pd"
   ]
  },
  {
   "cell_type": "code",
   "execution_count": 56,
   "metadata": {},
   "outputs": [],
   "source": [
    "# Extract Data\n",
    "hate_crimes = pd.read_csv('data/raw/hate_crime.csv', low_memory=False)"
   ]
  },
  {
   "cell_type": "markdown",
   "metadata": {},
   "source": [
    "<a name='data-exploration'></a>\n",
    "### Data Exploration\n",
    "[`^ back to top`](#)"
   ]
  },
  {
   "cell_type": "markdown",
   "metadata": {},
   "source": [
    "**HateCrimeTable (hate_crime.csv)** consist of **201.403 rows** and **28 columns**. Below is the list of HateCrimeTable columns and its value type."
   ]
  },
  {
   "cell_type": "code",
   "execution_count": 99,
   "metadata": {},
   "outputs": [
    {
     "name": "stdout",
     "output_type": "stream",
     "text": [
      "HateCrimeTable\n",
      "------------------------------------\n",
      "Rows\t:201403\n",
      "Columns\t:28\n",
      "------------------------------------\n",
      "Columns Data Type\n",
      "------------------------------------\n",
      "INCIDENT_ID               int64\n",
      "DATA_YEAR                 int64\n",
      "ORI                       object\n",
      "PUB_AGENCY_NAME           object\n",
      "PUB_AGENCY_UNIT           object\n",
      "AGENCY_TYPE_NAME          object\n",
      "STATE_ABBR                object\n",
      "STATE_NAME                object\n",
      "DIVISION_NAME             object\n",
      "REGION_NAME               object\n",
      "POPULATION_GROUP_CODE     object\n",
      "POPULATION_GROUP_DESC     object\n",
      "INCIDENT_DATE             object\n",
      "ADULT_VICTIM_COUNT        float64\n",
      "JUVENILE_VICTIM_COUNT     float64\n",
      "TOTAL_OFFENDER_COUNT      int64\n",
      "ADULT_OFFENDER_COUNT      float64\n",
      "JUVENILE_OFFENDER_COUNT   float64\n",
      "OFFENDER_RACE             object\n",
      "OFFENDER_ETHNICITY        object\n",
      "VICTIM_COUNT              int64\n",
      "OFFENSE_NAME              object\n",
      "TOTAL_INDIVIDUAL_VICTIMS  float64\n",
      "LOCATION_NAME             object\n",
      "BIAS_DESC                 object\n",
      "VICTIM_TYPES              object\n",
      "MULTIPLE_OFFENSE          object\n",
      "MULTIPLE_BIAS             object\n"
     ]
    }
   ],
   "source": [
    "print(\"\"\"HateCrimeTable\n",
    "------------------------------------\n",
    "Rows\\t:{}\n",
    "Columns\\t:{}\n",
    "------------------------------------\"\"\".format(*hate_crimes.shape))\n",
    "\n",
    "print(\"\"\"Columns Data Type\n",
    "------------------------------------\"\"\")\n",
    "for column, dtype in zip(hate_crimes.columns, list(hate_crimes.dtypes)):\n",
    "    print(\"{}\".format(column).ljust(25, ' '), end=' ')\n",
    "    print(dtype)"
   ]
  },
  {
   "cell_type": "markdown",
   "metadata": {},
   "source": [
    "This report will only use columns that provide information to answer the quesitions from Inspiration section. These columns are:"
   ]
  },
  {
   "cell_type": "code",
   "execution_count": 98,
   "metadata": {},
   "outputs": [
    {
     "name": "stdout",
     "output_type": "stream",
     "text": [
      "Used Columns\n",
      "------------------------------------\n",
      "INCIDENT_ID               int64\n",
      "DATA_YEAR                 int64\n",
      "STATE_NAME                object\n",
      "REGION_NAME               object\n",
      "OFFENSE_NAME              object\n",
      "LOCATION_NAME             object\n",
      "BIAS_DESC                 object\n"
     ]
    }
   ],
   "source": [
    "used_columns = ['INCIDENT_ID', 'DATA_YEAR', 'STATE_NAME', 'REGION_NAME', 'OFFENSE_NAME', 'LOCATION_NAME', 'BIAS_DESC']\n",
    "hc = hate_crimes[used_columns]\n",
    "\n",
    "print(\"\"\"Used Columns\n",
    "------------------------------------\"\"\")\n",
    "for column, dtype in zip(hc.columns, list(hc.dtypes)):\n",
    "    print(\"{}\".format(column).ljust(25, ' '), end=' ')\n",
    "    print(dtype)"
   ]
  },
  {
   "cell_type": "markdown",
   "metadata": {},
   "source": [
    "Below is one of the sample of data in HateCrimeTable."
   ]
  },
  {
   "cell_type": "code",
   "execution_count": 101,
   "metadata": {},
   "outputs": [
    {
     "name": "stdout",
     "output_type": "stream",
     "text": [
      "Sample of Data\n",
      "------------------------------------\n",
      "INCIDENT_ID              44\n",
      "DATA_YEAR                1991\n",
      "STATE_NAME               Arkansas\n",
      "REGION_NAME              South\n",
      "OFFENSE_NAME             Aggravated Assault;Destruction/Damage/Vandalism of Property\n",
      "LOCATION_NAME            Highway/Road/Alley/Street/Sidewalk\n",
      "BIAS_DESC                Anti-White\n"
     ]
    }
   ],
   "source": [
    "sample = hc.iloc[3]\n",
    "print(\"\"\"Sample of Data\n",
    "------------------------------------\"\"\")\n",
    "for column, value in zip(hc.columns, sample):\n",
    "    print(\"{}\".format(column).ljust(25, ' '), end='')\n",
    "    print(value)"
   ]
  },
  {
   "cell_type": "markdown",
   "metadata": {},
   "source": [
    "#### Findings\n",
    "**1. Multi-Values Columns**\n",
    "\n",
    "Several column can have more than one value (multi-value columns). These columns are:\n",
    "- **OFFENSE_NAME**\n",
    "- **LOCATION_NAME**\n",
    "- **BIAS_DESC**\n",
    "\n",
    "The reason these columns can have multiple categories are some incident can't be categorized with only one category. For example, if the offender destroy victim's property and also harrassing them, the offender can be judged for two crimes but still in one incident. The offender can also \"hate\" more than one bias that victim's have. Some incident's location sometimes categorized as more than one category, or happen in several location.\n",
    "\n",
    "Multi-values columns must be processed before it can be visualized. In this report, the multi-values columns will handled by creating new table for each columns. This approach can make reporting process easier."
   ]
  },
  {
   "cell_type": "markdown",
   "metadata": {},
   "source": [
    "**2. Too Many Categories**\n",
    "\n",
    "Below is the frequency table for multi-values columns:"
   ]
  },
  {
   "cell_type": "code",
   "execution_count": 60,
   "metadata": {},
   "outputs": [],
   "source": [
    "offense_cat = set()\n",
    "for offenses in hc['OFFENSE_NAME'].tolist():\n",
    "    for offense in offenses.split(';'):\n",
    "        offense_cat.add(offense)"
   ]
  },
  {
   "cell_type": "code",
   "execution_count": 61,
   "metadata": {},
   "outputs": [],
   "source": [
    "location_cat = set()\n",
    "for locations in hc['LOCATION_NAME'].tolist():\n",
    "    for location in locations.split(';'):\n",
    "        location_cat.add(location)"
   ]
  },
  {
   "cell_type": "code",
   "execution_count": 62,
   "metadata": {},
   "outputs": [],
   "source": [
    "bias_cat = set()\n",
    "for biases in hc['BIAS_DESC'].tolist():\n",
    "    for bias in biases.split(';'):\n",
    "        bias_cat.add(bias)"
   ]
  },
  {
   "cell_type": "code",
   "execution_count": 63,
   "metadata": {},
   "outputs": [
    {
     "name": "stdout",
     "output_type": "stream",
     "text": [
      "Unique Value\n",
      "------------------------------------\n",
      "Offense Types : 48\n",
      "Location Types: 46\n",
      "Bias Types    : 35\n",
      "\n"
     ]
    }
   ],
   "source": [
    "print(\"\"\"Unique Value\n",
    "------------------------------------\n",
    "Offense Types : {}\n",
    "Location Types: {}\n",
    "Bias Types    : {}\n",
    "\"\"\".format(len(offense_cat), len(location_cat), len(bias_cat)))"
   ]
  },
  {
   "cell_type": "markdown",
   "metadata": {},
   "source": [
    "There are a lot of categories in each multi-values columns. To many categories will reduce readability of the report. To handle this problem, each column will be clustered."
   ]
  },
  {
   "cell_type": "markdown",
   "metadata": {},
   "source": [
    "<a name='data-preprocessing'></a>\n",
    "### Data Preprocessing\n",
    "[`^ back to top`](#top)"
   ]
  },
  {
   "cell_type": "markdown",
   "metadata": {},
   "source": [
    "**1. Cleaning Data**\n",
    "\n",
    "This analysis will only using reported incident from 2010 to 2018. Following states won't be included:\n",
    "- Guam\n",
    "- Hawaii\n",
    "- Federal\n",
    "\n",
    "The reason is their location are hard to visualize with Excel Map Charts."
   ]
  },
  {
   "cell_type": "code",
   "execution_count": 66,
   "metadata": {
    "scrolled": true
   },
   "outputs": [
    {
     "name": "stdout",
     "output_type": "stream",
     "text": [
      "Total Rows: 57758 (28.68% of the total data)\n"
     ]
    }
   ],
   "source": [
    "df = hc[(hc['DATA_YEAR'] >= 2010) & (hc['DATA_YEAR'] <= 2018)]\n",
    "df = df.drop(df[(df['STATE_NAME']==\"Guam\") | (df['STATE_NAME']==\"Hawaii\") | (df['STATE_NAME']==\"Federal\")\n",
    "               ].index)\n",
    "print(\"\"\"Total Rows: {} ({:.2f}% of the total data)\"\"\".format(df.shape[0], (df.shape[0]/hc.shape[0])*100))"
   ]
  },
  {
   "cell_type": "markdown",
   "metadata": {},
   "source": [
    "**2. Parse Multi-Value Columns**\n",
    "\n",
    "Multi-value column will be normalized by creating another table. Data diagram for this implementation are shown as follow:\n",
    "\n",
    "<br>![data-diagram](images/data_diagram.png)</br>"
   ]
  },
  {
   "cell_type": "code",
   "execution_count": 69,
   "metadata": {},
   "outputs": [],
   "source": [
    "def parseMVC(df, column_name, label):\n",
    "    value = []\n",
    "    iid = df.columns.get_loc(\"INCIDENT_ID\")\n",
    "    cid = df.columns.get_loc(column_name)\n",
    "    for col in df.values.tolist():\n",
    "        for v in col[cid].split(';'):\n",
    "            value.append([col[iid], v])\n",
    "    tdf = pd.DataFrame(value, columns=['Id', label])\n",
    "    return tdf"
   ]
  },
  {
   "cell_type": "code",
   "execution_count": 78,
   "metadata": {},
   "outputs": [
    {
     "name": "stdout",
     "output_type": "stream",
     "text": [
      "(59856, 2)\n"
     ]
    },
    {
     "data": {
      "text/html": [
       "<div>\n",
       "<style scoped>\n",
       "    .dataframe tbody tr th:only-of-type {\n",
       "        vertical-align: middle;\n",
       "    }\n",
       "\n",
       "    .dataframe tbody tr th {\n",
       "        vertical-align: top;\n",
       "    }\n",
       "\n",
       "    .dataframe thead th {\n",
       "        text-align: right;\n",
       "    }\n",
       "</style>\n",
       "<table border=\"1\" class=\"dataframe\">\n",
       "  <thead>\n",
       "    <tr style=\"text-align: right;\">\n",
       "      <th></th>\n",
       "      <th>Incident_Id</th>\n",
       "      <th>Offense</th>\n",
       "    </tr>\n",
       "  </thead>\n",
       "  <tbody>\n",
       "    <tr>\n",
       "      <th>0</th>\n",
       "      <td>147593</td>\n",
       "      <td>Aggravated Assault</td>\n",
       "    </tr>\n",
       "    <tr>\n",
       "      <th>1</th>\n",
       "      <td>147594</td>\n",
       "      <td>Simple Assault</td>\n",
       "    </tr>\n",
       "    <tr>\n",
       "      <th>2</th>\n",
       "      <td>147595</td>\n",
       "      <td>Simple Assault</td>\n",
       "    </tr>\n",
       "  </tbody>\n",
       "</table>\n",
       "</div>"
      ],
      "text/plain": [
       "   Incident_Id             Offense\n",
       "0       147593  Aggravated Assault\n",
       "1       147594      Simple Assault\n",
       "2       147595      Simple Assault"
      ]
     },
     "execution_count": 78,
     "metadata": {},
     "output_type": "execute_result"
    }
   ],
   "source": [
    "offenses = parseMVC(df, 'OFFENSE_NAME', 'Offense')\n",
    "locations = parseMVC(df, 'LOCATION_NAME', 'Location')\n",
    "biases = parseMVC(df, 'BIAS_DESC', 'Bias')\n",
    "\n",
    "print(offenses.shape)\n",
    "offense_df.head(3)"
   ]
  },
  {
   "cell_type": "markdown",
   "metadata": {},
   "source": [
    "**3. Clustering Categories in Multi-Value Columns**\n",
    "\n",
    "Category-Cluster mapping can be seen in this [file](visualization.xlsx). Clustering will be used to reduce variety of category. The clustering uses information from many sources as references and will be done manually."
   ]
  },
  {
   "cell_type": "code",
   "execution_count": 84,
   "metadata": {},
   "outputs": [],
   "source": [
    "# Offense Name\n",
    "offense_map = {\n",
    "    'Aggravated Assault': 'Assault',\n",
    "    'Animal Cruelty': 'Assault',\n",
    "    'Arson': 'Assault',\n",
    "    'Destruction/Damage/Vandalism of Property': 'Assault',\n",
    "    'Simple Assault': 'Assault',\n",
    "    'Burglary/Breaking & Entering': 'Burgarly or Robbery',\n",
    "    'Motor Vehicle Theft': 'Burgarly or Robbery',\n",
    "    'Pocket-picking': 'Burgarly or Robbery',\n",
    "    'Purse-snatching': 'Burgarly or Robbery',\n",
    "    'Robbery': 'Burgarly or Robbery',\n",
    "    'Shoplifting': 'Burgarly or Robbery',\n",
    "    'Stolen Property Offenses': 'Burgarly or Robbery',\n",
    "    'Theft From Building': 'Burgarly or Robbery',\n",
    "    'Theft From Coin-Operated Machine or Device': 'Burgarly or Robbery',\n",
    "    'Theft From Motor Vehicle': 'Burgarly or Robbery',\n",
    "    'Theft of Motor Vehicle Parts or Accessories': 'Burgarly or Robbery',\n",
    "    'Drug Equipment Violations': 'Drug/Weapon Law Violations',\n",
    "    'Drug/Narcotic Violations': 'Drug/Weapon Law Violations',\n",
    "    'Weapon Law Violations': 'Drug/Weapon Law Violations',\n",
    "    'Human Trafficking, Commercial Sex Acts': 'Human Trafficking or Abduction',\n",
    "    'Kidnapping/Abduction': 'Human Trafficking or Abduction',\n",
    "    'Betting/Wagering': 'Illegal Activities, Fraud and Identity Theft',\n",
    "    'Embezzlement': 'Illegal Activities, Fraud and Identity Theft',\n",
    "    'Counterfeiting/Forgery': 'Illegal Activities, Fraud and Identity Theft',\n",
    "    'Bribery': 'Illegal Activities, Fraud and Identity Theft',\n",
    "    'Impersonation': 'Illegal Activities, Fraud and Identity Theft',\n",
    "    'Hacking/Computer Invasion': 'Illegal Activities, Fraud and Identity Theft',\n",
    "    'Wire Fraud': 'Illegal Activities, Fraud and Identity Theft',\n",
    "    'Welfare Fraud': 'Illegal Activities, Fraud and Identity Theft',\n",
    "    'Identity Theft': 'Illegal Activities, Fraud and Identity Theft',\n",
    "    'Credit Card/Automated Teller Machine Fraud': 'Illegal Activities, Fraud and Identity Theft',\n",
    "    'False Pretenses/Swindle/Confidence Game': 'Illegal Activities, Fraud and Identity Theft',\n",
    "    'Murder and Nonnegligent Manslaughter': 'Murder or Manslaughter',\n",
    "    'Negligent Manslaughter': 'Murder or Manslaughter',\n",
    "    'Extortion/Blackmail': 'Psychological Harassment',\n",
    "    'Intimidation': 'Psychological Harassment',\n",
    "    'Assisting or Promoting Prostitution': 'Sexual Harassment or Assault',\n",
    "    'Fondling': 'Sexual Harassment or Assault',\n",
    "    'Incest': 'Sexual Harassment or Assault',\n",
    "    'Pornography/Obscene Material': 'Sexual Harassment or Assault',\n",
    "    'Prostitution': 'Sexual Harassment or Assault',\n",
    "    'Purchasing Prostitution': 'Sexual Harassment or Assault',\n",
    "    'Rape': 'Sexual Harassment or Assault',\n",
    "    'Sexual Assault With An Object': 'Sexual Harassment or Assault',\n",
    "    'Sodomy': 'Sexual Harassment or Assault',\n",
    "    'Statutory Rape': 'Sexual Harassment or Assault',\n",
    "    'Not Specified': 'Other',\n",
    "    'All Other Larceny': 'Other',\n",
    "}"
   ]
  },
  {
   "cell_type": "code",
   "execution_count": 85,
   "metadata": {},
   "outputs": [],
   "source": [
    "# Location Name\n",
    "location_map = {\n",
    "    \"School-College/University\": \"Educational Buildings\",\n",
    "    \"School/College\": \"Educational Buildings\",\n",
    "    \"School-Elementary/Secondary\": \"Educational Buildings\",\n",
    "    \"Government/Public Building\": \"Goverment Buildings\",\n",
    "    \"Jail/Prison/Penitentiary/Corrections Facility\": \"Goverment Buildings\",\n",
    "    \"Military Installation\": \"Goverment Buildings\",\n",
    "    \"ATM Separate from Bank\": \"Highway, Road or Other Open Space\",\n",
    "    \"Bank/Savings and Loan\": \"Highway, Road or Other Open Space\",\n",
    "    \"Highway/Road/Alley/Street/Sidewalk\": \"Highway, Road or Other Open Space\",\n",
    "    \"Parking/Drop Lot/Garage\": \"Highway, Road or Other Open Space\",\n",
    "    \"Rest Area\": \"Highway, Road or Other Open Space\",\n",
    "    \"Service/Gas Station\": \"Highway, Road or Other Open Space\",\n",
    "    \"Abandoned/Condemned Structure\": \"Industrial\",\n",
    "    \"Construction Site\": \"Industrial\",\n",
    "    \"Industrial Site\": \"Industrial\",\n",
    "    \"Amusement Park\": \"Public Places and Recreation Sites\",\n",
    "    \"Arena/Stadium/Fairgrounds/Coliseum\": \"Public Places and Recreation Sites\",\n",
    "    \"Camp/Campground\": \"Public Places and Recreation Sites\",\n",
    "    \"Church/Synagogue/Temple/Mosque\": \"Public Places and Recreation Sites\",\n",
    "    \"Field/Woods\": \"Public Places and Recreation Sites\",\n",
    "    \"Lake/Waterway/Beach\": \"Public Places and Recreation Sites\",\n",
    "    \"Park/Playground\": \"Public Places and Recreation Sites\",\n",
    "    \"Community Center\": \"Residential or Community Center\",\n",
    "    \"Daycare Facility\": \"Residential or Community Center\",\n",
    "    \"Residence/Home\": \"Residential or Community Center\",\n",
    "    \"Shelter-Mission/Homeless\": \"Residential or Community Center\",\n",
    "    \"Tribal Lands\": \"Residential or Community Center\",\n",
    "    \"Auto Dealership New/Used\": \"Store and Commercial Buildings\",\n",
    "    \"Bar/Nightclub\": \"Store and Commercial Buildings\",\n",
    "    \"Commercial/Office Building\": \"Store and Commercial Buildings\",\n",
    "    \"Convenience Store\": \"Store and Commercial Buildings\",\n",
    "    \"Cyberspace\": \"Store and Commercial Buildings\",\n",
    "    \"Department/Discount Store\": \"Store and Commercial Buildings\",\n",
    "    \"Drug Store/Doctor's Office/Hospital\": \"Store and Commercial Buildings\",\n",
    "    \"Farm Facility\": \"Store and Commercial Buildings\",\n",
    "    \"Gambling Facility/Casino/Race Track\": \"Store and Commercial Buildings\",\n",
    "    \"Grocery/Supermarket\": \"Store and Commercial Buildings\",\n",
    "    \"Hotel/Motel/Etc.\": \"Store and Commercial Buildings\",\n",
    "    \"Liquor Store\": \"Store and Commercial Buildings\",\n",
    "    \"Rental Storage Facility\": \"Store and Commercial Buildings\",\n",
    "    \"Restaurant\": \"Store and Commercial Buildings\",\n",
    "    \"Shopping Mall\": \"Store and Commercial Buildings\",\n",
    "    \"Specialty Store\": \"Store and Commercial Buildings\",\n",
    "    \"Air/Bus/Train Terminal\": \"Transportation Terminals\",\n",
    "    \"Dock/Wharf/Freight/Modal Terminal\": \"Transportation Terminals\",\n",
    "    \"Other/Unknown\": \"Other/Unknown\",\n",
    "}"
   ]
  },
  {
   "cell_type": "code",
   "execution_count": 86,
   "metadata": {},
   "outputs": [],
   "source": [
    "# Bias Desc\n",
    "bias_map = {\n",
    "    \"Anti-Mental Disability\": \"Disability\",\n",
    "    \"Anti-Physical Disability\": \"Disability\",\n",
    "    \"Anti-Female\": \"Gender\",\n",
    "    \"Anti-Gender Non-Conforming\": \"Gender Identity\",\n",
    "    \"Anti-Heterosexual\": \"Gender Identity\",\n",
    "    \"Anti-Male\": \"Gender Identity\",\n",
    "    \"Anti-Transgender\": \"Gender Identity\",\n",
    "    \"Anti-American Indian or Alaska Native\": \"Racial or Ethnicity\",\n",
    "    \"Anti-Arab\": \"Racial or Ethnicity\",\n",
    "    \"Anti-Asian\": \"Racial or Ethnicity\",\n",
    "    \"Anti-Black or African American\": \"Racial or Ethnicity\",\n",
    "    \"Anti-Hispanic or Latino\": \"Racial or Ethnicity\",\n",
    "    \"Anti-Multiple Races, Group\": \"Racial or Ethnicity\",\n",
    "    \"Anti-Native Hawaiian or Other Pacific Islander\": \"Racial or Ethnicity\",\n",
    "    \"Anti-Other Race/Ethnicity/Ancestry\": \"Racial or Ethnicity\",\n",
    "    \"Anti-White\": \"Racial or Ethnicity\",\n",
    "    \"Anti-Atheism/Agnosticism\": \"Religion or Belief\",\n",
    "    \"Anti-Buddhist\": \"Religion or Belief\",\n",
    "    \"Anti-Catholic\": \"Religion or Belief\",\n",
    "    \"Anti-Eastern Orthodox (Russian, Greek, Other)\": \"Religion or Belief\",\n",
    "    \"Anti-Hindu\": \"Religion or Belief\",\n",
    "    \"Anti-Islamic (Muslim)\": \"Religion or Belief\",\n",
    "    \"Anti-Jehovah's Witness\": \"Religion or Belief\",\n",
    "    \"Anti-Jewish\": \"Religion or Belief\",\n",
    "    \"Anti-Mormon\": \"Religion or Belief\",\n",
    "    \"Anti-Multiple Religions, Group\": \"Religion or Belief\",\n",
    "    \"Anti-Other Christian\": \"Religion or Belief\",\n",
    "    \"Anti-Other Religion\": \"Religion or Belief\",\n",
    "    \"Anti-Protestant\": \"Religion or Belief\",\n",
    "    \"Anti-Sikh\": \"Religion or Belief\",\n",
    "    \"Anti-Bisexual\": \"Sexual Orientation\",\n",
    "    \"Anti-Gay (Male)\": \"Sexual Orientation\",\n",
    "    \"Anti-Lesbian (Female)\": \"Sexual Orientation\",\n",
    "    \"Anti-Lesbian, Gay, Bisexual, or Transgender (Mixed Group)\": \"Sexual Orientation\",\n",
    "    \"Unknown (offender's motivation not known)\": \"Unknown\",\n",
    "}"
   ]
  },
  {
   "cell_type": "code",
   "execution_count": 87,
   "metadata": {},
   "outputs": [],
   "source": [
    "def addCluster(df, column_name, cmap):\n",
    "    tdf = df.copy()\n",
    "    cluster = [cmap[value] for value in df[column_name].tolist()]\n",
    "    tdf[\"Cluster\"] = cluster\n",
    "    return tdf"
   ]
  },
  {
   "cell_type": "code",
   "execution_count": 89,
   "metadata": {},
   "outputs": [
    {
     "name": "stdout",
     "output_type": "stream",
     "text": [
      "(59856, 3)\n"
     ]
    },
    {
     "data": {
      "text/html": [
       "<div>\n",
       "<style scoped>\n",
       "    .dataframe tbody tr th:only-of-type {\n",
       "        vertical-align: middle;\n",
       "    }\n",
       "\n",
       "    .dataframe tbody tr th {\n",
       "        vertical-align: top;\n",
       "    }\n",
       "\n",
       "    .dataframe thead th {\n",
       "        text-align: right;\n",
       "    }\n",
       "</style>\n",
       "<table border=\"1\" class=\"dataframe\">\n",
       "  <thead>\n",
       "    <tr style=\"text-align: right;\">\n",
       "      <th></th>\n",
       "      <th>Incident_Id</th>\n",
       "      <th>Offense</th>\n",
       "      <th>Cluster</th>\n",
       "    </tr>\n",
       "  </thead>\n",
       "  <tbody>\n",
       "    <tr>\n",
       "      <th>0</th>\n",
       "      <td>147593</td>\n",
       "      <td>Aggravated Assault</td>\n",
       "      <td>Assault</td>\n",
       "    </tr>\n",
       "    <tr>\n",
       "      <th>1</th>\n",
       "      <td>147594</td>\n",
       "      <td>Simple Assault</td>\n",
       "      <td>Assault</td>\n",
       "    </tr>\n",
       "    <tr>\n",
       "      <th>2</th>\n",
       "      <td>147595</td>\n",
       "      <td>Simple Assault</td>\n",
       "      <td>Assault</td>\n",
       "    </tr>\n",
       "  </tbody>\n",
       "</table>\n",
       "</div>"
      ],
      "text/plain": [
       "   Incident_Id             Offense  Cluster\n",
       "0       147593  Aggravated Assault  Assault\n",
       "1       147594      Simple Assault  Assault\n",
       "2       147595      Simple Assault  Assault"
      ]
     },
     "execution_count": 89,
     "metadata": {},
     "output_type": "execute_result"
    }
   ],
   "source": [
    "offense_df = addCluster(offenses, 'Offense', offense_map)\n",
    "location_df = addCluster(locations, 'Location', location_map)\n",
    "bias_df = addCluster(biases, 'Bias', bias_map)\n",
    "\n",
    "print(offense_df.shape)\n",
    "offense_df.head(3)"
   ]
  },
  {
   "cell_type": "markdown",
   "metadata": {},
   "source": [
    "**4. Rename, Rearangge and Convert DataFrame to .csv**\n",
    "\n",
    "This final step intends to make the data easier to analyze. Further analysis will be done on Excel."
   ]
  },
  {
   "cell_type": "code",
   "execution_count": 92,
   "metadata": {},
   "outputs": [
    {
     "name": "stdout",
     "output_type": "stream",
     "text": [
      "(57758, 4)\n"
     ]
    },
    {
     "data": {
      "text/html": [
       "<div>\n",
       "<style scoped>\n",
       "    .dataframe tbody tr th:only-of-type {\n",
       "        vertical-align: middle;\n",
       "    }\n",
       "\n",
       "    .dataframe tbody tr th {\n",
       "        vertical-align: top;\n",
       "    }\n",
       "\n",
       "    .dataframe thead th {\n",
       "        text-align: right;\n",
       "    }\n",
       "</style>\n",
       "<table border=\"1\" class=\"dataframe\">\n",
       "  <thead>\n",
       "    <tr style=\"text-align: right;\">\n",
       "      <th></th>\n",
       "      <th>Incident_Id</th>\n",
       "      <th>Year</th>\n",
       "      <th>State</th>\n",
       "      <th>Region</th>\n",
       "    </tr>\n",
       "  </thead>\n",
       "  <tbody>\n",
       "    <tr>\n",
       "      <th>143578</th>\n",
       "      <td>147593</td>\n",
       "      <td>2010</td>\n",
       "      <td>Alaska</td>\n",
       "      <td>West</td>\n",
       "    </tr>\n",
       "    <tr>\n",
       "      <th>143579</th>\n",
       "      <td>147594</td>\n",
       "      <td>2010</td>\n",
       "      <td>Alaska</td>\n",
       "      <td>West</td>\n",
       "    </tr>\n",
       "    <tr>\n",
       "      <th>143580</th>\n",
       "      <td>147595</td>\n",
       "      <td>2010</td>\n",
       "      <td>Alaska</td>\n",
       "      <td>West</td>\n",
       "    </tr>\n",
       "  </tbody>\n",
       "</table>\n",
       "</div>"
      ],
      "text/plain": [
       "        Incident_Id  Year   State Region\n",
       "143578       147593  2010  Alaska   West\n",
       "143579       147594  2010  Alaska   West\n",
       "143580       147595  2010  Alaska   West"
      ]
     },
     "execution_count": 92,
     "metadata": {},
     "output_type": "execute_result"
    }
   ],
   "source": [
    "incident_columns = ['INCIDENT_ID', 'DATA_YEAR', 'STATE_NAME', 'REGION_NAME']\n",
    "incident_df = df[incident_columns]\n",
    "incident_df.columns = ['Incident_Id', 'Year', 'State', 'Region']\n",
    "\n",
    "print(incident_df.shape)\n",
    "incident_df.head(3)"
   ]
  },
  {
   "cell_type": "code",
   "execution_count": 17,
   "metadata": {},
   "outputs": [],
   "source": [
    "incident_df.to_csv('data/incidet.csv', index=False)\n",
    "offense_df.to_csv('data/offense.csv', index=False)\n",
    "location_df.to_csv('data/location.csv', index=False)\n",
    "bias_df.to_csv('data/bias.csv', index=False)"
   ]
  },
  {
   "cell_type": "markdown",
   "metadata": {},
   "source": [
    "<a name='data-visualization'></a>\n",
    "### IV. Data Visualization\n",
    "[`^ back to top`](#top)"
   ]
  },
  {
   "cell_type": "markdown",
   "metadata": {},
   "source": [
    "There are two visualization from these data: (1) [dashboard](visualization.xlsx); and (2) poster ([ori](media/poster.png); [mini](media/poster_mini.png)). "
   ]
  },
  {
   "cell_type": "markdown",
   "metadata": {},
   "source": [
    "<a name='poster'></a>\n",
    "## Poster\n",
    "[`^ back to top`](#top)"
   ]
  },
  {
   "cell_type": "markdown",
   "metadata": {},
   "source": [
    "![poster](images/poster_mini.png)"
   ]
  }
 ],
 "metadata": {
  "kernelspec": {
   "display_name": "Python 3",
   "language": "python",
   "name": "python3"
  },
  "language_info": {
   "codemirror_mode": {
    "name": "ipython",
    "version": 3
   },
   "file_extension": ".py",
   "mimetype": "text/x-python",
   "name": "python",
   "nbconvert_exporter": "python",
   "pygments_lexer": "ipython3",
   "version": "3.8.3"
  }
 },
 "nbformat": 4,
 "nbformat_minor": 2
}
