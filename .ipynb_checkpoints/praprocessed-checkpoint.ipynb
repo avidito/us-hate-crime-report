{
 "cells": [
  {
   "cell_type": "markdown",
   "metadata": {},
   "source": [
    "# US Hate Crime Analysis"
   ]
  },
  {
   "cell_type": "markdown",
   "metadata": {},
   "source": [
    "1. [Background](#background)\n",
    "2. [Inspiration](#inspiration)\n",
    "3. [Methodologies](#methodologies)\n",
    "    - [Data Gathering](#data-gathering)\n",
    "    - [Data Exploration](#data-exploration)\n",
    "    - [Data Pre-processing](#data-pre-processing)"
   ]
  },
  {
   "cell_type": "markdown",
   "metadata": {},
   "source": [
    "<a name='background'></a>\n",
    "## Background"
   ]
  },
  {
   "cell_type": "markdown",
   "metadata": {},
   "source": [
    "**Hate crime**, or also known as bias motivated crime, is a crime motivated by prejudice or intolerance toward an individual’s membership (or perceived membership) to a certain group. For example, some reported hate crime victim are assaulted just because his skin color is black. Unfortunately this kind of crime slowly became common things. Discrimantion keep increasing even when the majority of society constantly protest againts these. This analysis will create simple vizualitation about hate crime characteristics in US from 2010-2018. The result can be used for another country if the data is available. "
   ]
  },
  {
   "cell_type": "markdown",
   "metadata": {},
   "source": [
    "<a name='inspiration'></a>\n",
    "## Analysis Question\n",
    "\n",
    "1. How US hate crime trends in 2010 to 2018?\n",
    "2. What biases that used for most of the cases?\n",
    "3. What are the usual criminal acts commited on US hate crime?"
   ]
  },
  {
   "cell_type": "markdown",
   "metadata": {},
   "source": [
    "<a name='methodologies'></a>\n",
    "## Methodologies"
   ]
  },
  {
   "cell_type": "markdown",
   "metadata": {},
   "source": [
    "This analysis will be using three tools:\n",
    "1. **Python 3.7 in Jupyter Notebook**, for data gathering and preprocessing.\n",
    "2. **Excel 365**, for data visualization.\n",
    "3. **Powerpoint 365**, for data analysis report poster.\n",
    "\n",
    "Analysis will be aiming to answer the analysis question."
   ]
  },
  {
   "cell_type": "code",
   "execution_count": 1,
   "metadata": {},
   "outputs": [],
   "source": [
    "import numpy as np\n",
    "import pandas as pd"
   ]
  },
  {
   "cell_type": "markdown",
   "metadata": {},
   "source": [
    "<a name='data-gathering'></a>\n",
    "### Data Gathering"
   ]
  },
  {
   "cell_type": "markdown",
   "metadata": {},
   "source": [
    "Data obtained from [United States Hate Crimes (1991-2018)](https://www.kaggle.com/louissebye/united-states-hate-crimes-19912017) that preprocessed and posted by [Louisse Bye](https://www.kaggle.com/louissebye). Data gathered from [FBI: Crime Data Explorer](https://crime-data-explorer.fr.cloud.gov/downloads-and-docs). This data consist of several files:\n",
    "\n",
    "|File Name|Description|\n",
    "|:---|:---|\n",
    "|HC Readme.docx|Provide further information about technical definitions used in dataset|\n",
    "|NIBRS_DataDictionary.pdf|Data dictionary to provide definitions/information|\n",
    "|hate_crime.csv|the data|"
   ]
  },
  {
   "cell_type": "code",
   "execution_count": 3,
   "metadata": {},
   "outputs": [
    {
     "name": "stdout",
     "output_type": "stream",
     "text": [
      "(201403, 28)\n",
      "Index(['INCIDENT_ID', 'DATA_YEAR', 'ORI', 'PUB_AGENCY_NAME', 'PUB_AGENCY_UNIT',\n",
      "       'AGENCY_TYPE_NAME', 'STATE_ABBR', 'STATE_NAME', 'DIVISION_NAME',\n",
      "       'REGION_NAME', 'POPULATION_GROUP_CODE', 'POPULATION_GROUP_DESC',\n",
      "       'INCIDENT_DATE', 'ADULT_VICTIM_COUNT', 'JUVENILE_VICTIM_COUNT',\n",
      "       'TOTAL_OFFENDER_COUNT', 'ADULT_OFFENDER_COUNT',\n",
      "       'JUVENILE_OFFENDER_COUNT', 'OFFENDER_RACE', 'OFFENDER_ETHNICITY',\n",
      "       'VICTIM_COUNT', 'OFFENSE_NAME', 'TOTAL_INDIVIDUAL_VICTIMS',\n",
      "       'LOCATION_NAME', 'BIAS_DESC', 'VICTIM_TYPES', 'MULTIPLE_OFFENSE',\n",
      "       'MULTIPLE_BIAS'],\n",
      "      dtype='object')\n"
     ]
    },
    {
     "name": "stderr",
     "output_type": "stream",
     "text": [
      "/home/leonardi/developer/anaconda3/lib/python3.7/site-packages/IPython/core/interactiveshell.py:3051: DtypeWarning: Columns (19) have mixed types. Specify dtype option on import or set low_memory=False.\n",
      "  interactivity=interactivity, compiler=compiler, result=result)\n"
     ]
    },
    {
     "data": {
      "text/html": [
       "<div>\n",
       "<style scoped>\n",
       "    .dataframe tbody tr th:only-of-type {\n",
       "        vertical-align: middle;\n",
       "    }\n",
       "\n",
       "    .dataframe tbody tr th {\n",
       "        vertical-align: top;\n",
       "    }\n",
       "\n",
       "    .dataframe thead th {\n",
       "        text-align: right;\n",
       "    }\n",
       "</style>\n",
       "<table border=\"1\" class=\"dataframe\">\n",
       "  <thead>\n",
       "    <tr style=\"text-align: right;\">\n",
       "      <th></th>\n",
       "      <th>INCIDENT_ID</th>\n",
       "      <th>DATA_YEAR</th>\n",
       "      <th>ORI</th>\n",
       "      <th>PUB_AGENCY_NAME</th>\n",
       "      <th>PUB_AGENCY_UNIT</th>\n",
       "      <th>AGENCY_TYPE_NAME</th>\n",
       "      <th>STATE_ABBR</th>\n",
       "      <th>STATE_NAME</th>\n",
       "      <th>DIVISION_NAME</th>\n",
       "      <th>REGION_NAME</th>\n",
       "      <th>...</th>\n",
       "      <th>OFFENDER_RACE</th>\n",
       "      <th>OFFENDER_ETHNICITY</th>\n",
       "      <th>VICTIM_COUNT</th>\n",
       "      <th>OFFENSE_NAME</th>\n",
       "      <th>TOTAL_INDIVIDUAL_VICTIMS</th>\n",
       "      <th>LOCATION_NAME</th>\n",
       "      <th>BIAS_DESC</th>\n",
       "      <th>VICTIM_TYPES</th>\n",
       "      <th>MULTIPLE_OFFENSE</th>\n",
       "      <th>MULTIPLE_BIAS</th>\n",
       "    </tr>\n",
       "  </thead>\n",
       "  <tbody>\n",
       "    <tr>\n",
       "      <th>0</th>\n",
       "      <td>3015</td>\n",
       "      <td>1991</td>\n",
       "      <td>AR0040200</td>\n",
       "      <td>Rogers</td>\n",
       "      <td>NaN</td>\n",
       "      <td>City</td>\n",
       "      <td>AR</td>\n",
       "      <td>Arkansas</td>\n",
       "      <td>West South Central</td>\n",
       "      <td>South</td>\n",
       "      <td>...</td>\n",
       "      <td>White</td>\n",
       "      <td>NaN</td>\n",
       "      <td>1</td>\n",
       "      <td>Intimidation</td>\n",
       "      <td>1.0</td>\n",
       "      <td>Highway/Road/Alley/Street/Sidewalk</td>\n",
       "      <td>Anti-Black or African American</td>\n",
       "      <td>Individual</td>\n",
       "      <td>S</td>\n",
       "      <td>S</td>\n",
       "    </tr>\n",
       "    <tr>\n",
       "      <th>1</th>\n",
       "      <td>3016</td>\n",
       "      <td>1991</td>\n",
       "      <td>AR0290100</td>\n",
       "      <td>Hope</td>\n",
       "      <td>NaN</td>\n",
       "      <td>City</td>\n",
       "      <td>AR</td>\n",
       "      <td>Arkansas</td>\n",
       "      <td>West South Central</td>\n",
       "      <td>South</td>\n",
       "      <td>...</td>\n",
       "      <td>Black or African American</td>\n",
       "      <td>NaN</td>\n",
       "      <td>1</td>\n",
       "      <td>Simple Assault</td>\n",
       "      <td>1.0</td>\n",
       "      <td>Highway/Road/Alley/Street/Sidewalk</td>\n",
       "      <td>Anti-White</td>\n",
       "      <td>Individual</td>\n",
       "      <td>S</td>\n",
       "      <td>S</td>\n",
       "    </tr>\n",
       "    <tr>\n",
       "      <th>2</th>\n",
       "      <td>43</td>\n",
       "      <td>1991</td>\n",
       "      <td>AR0350100</td>\n",
       "      <td>Pine Bluff</td>\n",
       "      <td>NaN</td>\n",
       "      <td>City</td>\n",
       "      <td>AR</td>\n",
       "      <td>Arkansas</td>\n",
       "      <td>West South Central</td>\n",
       "      <td>South</td>\n",
       "      <td>...</td>\n",
       "      <td>Black or African American</td>\n",
       "      <td>NaN</td>\n",
       "      <td>1</td>\n",
       "      <td>Aggravated Assault</td>\n",
       "      <td>1.0</td>\n",
       "      <td>Residence/Home</td>\n",
       "      <td>Anti-Black or African American</td>\n",
       "      <td>Individual</td>\n",
       "      <td>S</td>\n",
       "      <td>S</td>\n",
       "    </tr>\n",
       "    <tr>\n",
       "      <th>3</th>\n",
       "      <td>44</td>\n",
       "      <td>1991</td>\n",
       "      <td>AR0350100</td>\n",
       "      <td>Pine Bluff</td>\n",
       "      <td>NaN</td>\n",
       "      <td>City</td>\n",
       "      <td>AR</td>\n",
       "      <td>Arkansas</td>\n",
       "      <td>West South Central</td>\n",
       "      <td>South</td>\n",
       "      <td>...</td>\n",
       "      <td>Black or African American</td>\n",
       "      <td>NaN</td>\n",
       "      <td>2</td>\n",
       "      <td>Aggravated Assault;Destruction/Damage/Vandalis...</td>\n",
       "      <td>1.0</td>\n",
       "      <td>Highway/Road/Alley/Street/Sidewalk</td>\n",
       "      <td>Anti-White</td>\n",
       "      <td>Individual</td>\n",
       "      <td>M</td>\n",
       "      <td>S</td>\n",
       "    </tr>\n",
       "    <tr>\n",
       "      <th>4</th>\n",
       "      <td>3017</td>\n",
       "      <td>1991</td>\n",
       "      <td>AR0350100</td>\n",
       "      <td>Pine Bluff</td>\n",
       "      <td>NaN</td>\n",
       "      <td>City</td>\n",
       "      <td>AR</td>\n",
       "      <td>Arkansas</td>\n",
       "      <td>West South Central</td>\n",
       "      <td>South</td>\n",
       "      <td>...</td>\n",
       "      <td>Black or African American</td>\n",
       "      <td>NaN</td>\n",
       "      <td>1</td>\n",
       "      <td>Aggravated Assault</td>\n",
       "      <td>1.0</td>\n",
       "      <td>Service/Gas Station</td>\n",
       "      <td>Anti-White</td>\n",
       "      <td>Individual</td>\n",
       "      <td>S</td>\n",
       "      <td>S</td>\n",
       "    </tr>\n",
       "  </tbody>\n",
       "</table>\n",
       "<p>5 rows × 28 columns</p>\n",
       "</div>"
      ],
      "text/plain": [
       "   INCIDENT_ID  DATA_YEAR        ORI PUB_AGENCY_NAME PUB_AGENCY_UNIT  \\\n",
       "0         3015       1991  AR0040200          Rogers             NaN   \n",
       "1         3016       1991  AR0290100            Hope             NaN   \n",
       "2           43       1991  AR0350100      Pine Bluff             NaN   \n",
       "3           44       1991  AR0350100      Pine Bluff             NaN   \n",
       "4         3017       1991  AR0350100      Pine Bluff             NaN   \n",
       "\n",
       "  AGENCY_TYPE_NAME STATE_ABBR STATE_NAME       DIVISION_NAME REGION_NAME  ...  \\\n",
       "0             City         AR   Arkansas  West South Central       South  ...   \n",
       "1             City         AR   Arkansas  West South Central       South  ...   \n",
       "2             City         AR   Arkansas  West South Central       South  ...   \n",
       "3             City         AR   Arkansas  West South Central       South  ...   \n",
       "4             City         AR   Arkansas  West South Central       South  ...   \n",
       "\n",
       "               OFFENDER_RACE OFFENDER_ETHNICITY VICTIM_COUNT  \\\n",
       "0                      White                NaN            1   \n",
       "1  Black or African American                NaN            1   \n",
       "2  Black or African American                NaN            1   \n",
       "3  Black or African American                NaN            2   \n",
       "4  Black or African American                NaN            1   \n",
       "\n",
       "                                        OFFENSE_NAME  \\\n",
       "0                                       Intimidation   \n",
       "1                                     Simple Assault   \n",
       "2                                 Aggravated Assault   \n",
       "3  Aggravated Assault;Destruction/Damage/Vandalis...   \n",
       "4                                 Aggravated Assault   \n",
       "\n",
       "   TOTAL_INDIVIDUAL_VICTIMS                       LOCATION_NAME  \\\n",
       "0                       1.0  Highway/Road/Alley/Street/Sidewalk   \n",
       "1                       1.0  Highway/Road/Alley/Street/Sidewalk   \n",
       "2                       1.0                      Residence/Home   \n",
       "3                       1.0  Highway/Road/Alley/Street/Sidewalk   \n",
       "4                       1.0                 Service/Gas Station   \n",
       "\n",
       "                        BIAS_DESC  VICTIM_TYPES MULTIPLE_OFFENSE MULTIPLE_BIAS  \n",
       "0  Anti-Black or African American    Individual                S             S  \n",
       "1                      Anti-White    Individual                S             S  \n",
       "2  Anti-Black or African American    Individual                S             S  \n",
       "3                      Anti-White    Individual                M             S  \n",
       "4                      Anti-White    Individual                S             S  \n",
       "\n",
       "[5 rows x 28 columns]"
      ]
     },
     "execution_count": 3,
     "metadata": {},
     "output_type": "execute_result"
    }
   ],
   "source": [
    "hc = pd.read_csv('data/raw/hate_crime.csv')\n",
    "\n",
    "print(hc.shape)\n",
    "print(hc.columns)\n",
    "hc.head()"
   ]
  },
  {
   "cell_type": "markdown",
   "metadata": {},
   "source": [
    "<a name='data-exploration'></a>\n",
    "### Data Exploration"
   ]
  },
  {
   "cell_type": "markdown",
   "metadata": {},
   "source": [
    "**1. Multi-Value Columns Exploration**\n",
    "\n",
    "Some columns in HateCrimeTable (hate_crime.csv) have multiple value. These columns are 'OFFENSE_NAME, 'LOCATION_NAME', and 'BIAS_DESC'."
   ]
  },
  {
   "cell_type": "code",
   "execution_count": 4,
   "metadata": {},
   "outputs": [],
   "source": [
    "oset = set()\n",
    "for offenses in hc['OFFENSE_NAME'].tolist():\n",
    "    for offense in offenses.split(';'):\n",
    "        oset.add(offense)"
   ]
  },
  {
   "cell_type": "code",
   "execution_count": 5,
   "metadata": {},
   "outputs": [],
   "source": [
    "lset = set()\n",
    "for locations in hc['LOCATION_NAME'].tolist():\n",
    "    for location in locations.split(';'):\n",
    "        lset.add(location)"
   ]
  },
  {
   "cell_type": "code",
   "execution_count": 6,
   "metadata": {},
   "outputs": [],
   "source": [
    "bset = set()\n",
    "for biases in hc['BIAS_DESC'].tolist():\n",
    "    for bias in biases.split(';'):\n",
    "        bset.add(bias)"
   ]
  },
  {
   "cell_type": "code",
   "execution_count": 7,
   "metadata": {},
   "outputs": [
    {
     "name": "stdout",
     "output_type": "stream",
     "text": [
      "Unique Value\n",
      "OFFENSE_NAME :  48\n",
      "LOCATION_NAME:  46\n",
      "BIAS_DESC    :  35\n"
     ]
    }
   ],
   "source": [
    "print(\"Unique Value\")\n",
    "print(\"OFFENSE_NAME : \", len(oset))\n",
    "print(\"LOCATION_NAME: \", len(lset))\n",
    "print(\"BIAS_DESC    : \", len(bset))"
   ]
  },
  {
   "cell_type": "markdown",
   "metadata": {},
   "source": [
    "These multi-value columns need to be parsed and convert to another table. Another way to improve readability is to cluster each category in multi-value columns. The clustering will use external information as references and will be done manually. Both method will make visualization easier and data more representable."
   ]
  },
  {
   "cell_type": "markdown",
   "metadata": {},
   "source": [
    "<a name='data-pre-processing'></a>\n",
    "### Data Pre-processing"
   ]
  },
  {
   "cell_type": "markdown",
   "metadata": {},
   "source": [
    "**1. Cleaning Data**\n",
    "\n",
    "This analysis will only using reported incident from 2010 to 2018. Some listed state won't be included too (Guam, Hawaii, and Federal) for the sake of better map visualization."
   ]
  },
  {
   "cell_type": "code",
   "execution_count": 9,
   "metadata": {},
   "outputs": [
    {
     "name": "stdout",
     "output_type": "stream",
     "text": [
      "(57758, 28)\n"
     ]
    }
   ],
   "source": [
    "df = hc[(hc['DATA_YEAR'] >= 2010) & (hc['DATA_YEAR'] <= 2018)]\n",
    "df = df.drop(df[(df['STATE_NAME']==\"Guam\") | (df['STATE_NAME']==\"Hawaii\") | (df['STATE_NAME']==\"Federal\")\n",
    "               ].index)\n",
    "print(df.shape)"
   ]
  },
  {
   "cell_type": "markdown",
   "metadata": {},
   "source": [
    "**2. Clustering Each Category in Multi-Value Columns**\n",
    "\n",
    "Category-Cluster mapping can be seen in this file. Cluster will be used to reduce variety of category. This will make vizualiation more readable."
   ]
  },
  {
   "cell_type": "code",
   "execution_count": 10,
   "metadata": {},
   "outputs": [],
   "source": [
    "# Offense Name\n",
    "omap = {\n",
    "    'Aggravated Assault': 'Assault',\n",
    "    'Animal Cruelty': 'Assault',\n",
    "    'Arson': 'Assault',\n",
    "    'Destruction/Damage/Vandalism of Property': 'Assault',\n",
    "    'Simple Assault': 'Assault',\n",
    "    'Burglary/Breaking & Entering': 'Burgarly or Robbery',\n",
    "    'Motor Vehicle Theft': 'Burgarly or Robbery',\n",
    "    'Pocket-picking': 'Burgarly or Robbery',\n",
    "    'Purse-snatching': 'Burgarly or Robbery',\n",
    "    'Robbery': 'Burgarly or Robbery',\n",
    "    'Shoplifting': 'Burgarly or Robbery',\n",
    "    'Stolen Property Offenses': 'Burgarly or Robbery',\n",
    "    'Theft From Building': 'Burgarly or Robbery',\n",
    "    'Theft From Coin-Operated Machine or Device': 'Burgarly or Robbery',\n",
    "    'Theft From Motor Vehicle': 'Burgarly or Robbery',\n",
    "    'Theft of Motor Vehicle Parts or Accessories': 'Burgarly or Robbery',\n",
    "    'Drug Equipment Violations': 'Drug/Weapon Law Violations',\n",
    "    'Drug/Narcotic Violations': 'Drug/Weapon Law Violations',\n",
    "    'Weapon Law Violations': 'Drug/Weapon Law Violations',\n",
    "    'Human Trafficking, Commercial Sex Acts': 'Human Trafficking or Abduction',\n",
    "    'Kidnapping/Abduction': 'Human Trafficking or Abduction',\n",
    "    'Betting/Wagering': 'Illegal Activities, Fraud and Identity Theft',\n",
    "    'Embezzlement': 'Illegal Activities, Fraud and Identity Theft',\n",
    "    'Counterfeiting/Forgery': 'Illegal Activities, Fraud and Identity Theft',\n",
    "    'Bribery': 'Illegal Activities, Fraud and Identity Theft',\n",
    "    'Impersonation': 'Illegal Activities, Fraud and Identity Theft',\n",
    "    'Hacking/Computer Invasion': 'Illegal Activities, Fraud and Identity Theft',\n",
    "    'Wire Fraud': 'Illegal Activities, Fraud and Identity Theft',\n",
    "    'Welfare Fraud': 'Illegal Activities, Fraud and Identity Theft',\n",
    "    'Identity Theft': 'Illegal Activities, Fraud and Identity Theft',\n",
    "    'Credit Card/Automated Teller Machine Fraud': 'Illegal Activities, Fraud and Identity Theft',\n",
    "    'False Pretenses/Swindle/Confidence Game': 'Illegal Activities, Fraud and Identity Theft',\n",
    "    'Murder and Nonnegligent Manslaughter': 'Murder or Manslaughter',\n",
    "    'Negligent Manslaughter': 'Murder or Manslaughter',\n",
    "    'Extortion/Blackmail': 'Psychological Harassment',\n",
    "    'Intimidation': 'Psychological Harassment',\n",
    "    'Assisting or Promoting Prostitution': 'Sexual Harassment or Assault',\n",
    "    'Fondling': 'Sexual Harassment or Assault',\n",
    "    'Incest': 'Sexual Harassment or Assault',\n",
    "    'Pornography/Obscene Material': 'Sexual Harassment or Assault',\n",
    "    'Prostitution': 'Sexual Harassment or Assault',\n",
    "    'Purchasing Prostitution': 'Sexual Harassment or Assault',\n",
    "    'Rape': 'Sexual Harassment or Assault',\n",
    "    'Sexual Assault With An Object': 'Sexual Harassment or Assault',\n",
    "    'Sodomy': 'Sexual Harassment or Assault',\n",
    "    'Statutory Rape': 'Sexual Harassment or Assault',\n",
    "    'Not Specified': 'Other',\n",
    "    'All Other Larceny': 'Other',\n",
    "}"
   ]
  },
  {
   "cell_type": "code",
   "execution_count": 11,
   "metadata": {},
   "outputs": [],
   "source": [
    "# Location Name\n",
    "lmap = {\n",
    "    \"School-College/University\": \"Educational Buildings\",\n",
    "    \"School/College\": \"Educational Buildings\",\n",
    "    \"School-Elementary/Secondary\": \"Educational Buildings\",\n",
    "    \"Government/Public Building\": \"Goverment Buildings\",\n",
    "    \"Jail/Prison/Penitentiary/Corrections Facility\": \"Goverment Buildings\",\n",
    "    \"Military Installation\": \"Goverment Buildings\",\n",
    "    \"ATM Separate from Bank\": \"Highway, Road or Other Open Space\",\n",
    "    \"Bank/Savings and Loan\": \"Highway, Road or Other Open Space\",\n",
    "    \"Highway/Road/Alley/Street/Sidewalk\": \"Highway, Road or Other Open Space\",\n",
    "    \"Parking/Drop Lot/Garage\": \"Highway, Road or Other Open Space\",\n",
    "    \"Rest Area\": \"Highway, Road or Other Open Space\",\n",
    "    \"Service/Gas Station\": \"Highway, Road or Other Open Space\",\n",
    "    \"Abandoned/Condemned Structure\": \"Industrial\",\n",
    "    \"Construction Site\": \"Industrial\",\n",
    "    \"Industrial Site\": \"Industrial\",\n",
    "    \"Amusement Park\": \"Public Places and Recreation Sites\",\n",
    "    \"Arena/Stadium/Fairgrounds/Coliseum\": \"Public Places and Recreation Sites\",\n",
    "    \"Camp/Campground\": \"Public Places and Recreation Sites\",\n",
    "    \"Church/Synagogue/Temple/Mosque\": \"Public Places and Recreation Sites\",\n",
    "    \"Field/Woods\": \"Public Places and Recreation Sites\",\n",
    "    \"Lake/Waterway/Beach\": \"Public Places and Recreation Sites\",\n",
    "    \"Park/Playground\": \"Public Places and Recreation Sites\",\n",
    "    \"Community Center\": \"Residential or Community Center\",\n",
    "    \"Daycare Facility\": \"Residential or Community Center\",\n",
    "    \"Residence/Home\": \"Residential or Community Center\",\n",
    "    \"Shelter-Mission/Homeless\": \"Residential or Community Center\",\n",
    "    \"Tribal Lands\": \"Residential or Community Center\",\n",
    "    \"Auto Dealership New/Used\": \"Store and Commercial Buildings\",\n",
    "    \"Bar/Nightclub\": \"Store and Commercial Buildings\",\n",
    "    \"Commercial/Office Building\": \"Store and Commercial Buildings\",\n",
    "    \"Convenience Store\": \"Store and Commercial Buildings\",\n",
    "    \"Cyberspace\": \"Store and Commercial Buildings\",\n",
    "    \"Department/Discount Store\": \"Store and Commercial Buildings\",\n",
    "    \"Drug Store/Doctor's Office/Hospital\": \"Store and Commercial Buildings\",\n",
    "    \"Farm Facility\": \"Store and Commercial Buildings\",\n",
    "    \"Gambling Facility/Casino/Race Track\": \"Store and Commercial Buildings\",\n",
    "    \"Grocery/Supermarket\": \"Store and Commercial Buildings\",\n",
    "    \"Hotel/Motel/Etc.\": \"Store and Commercial Buildings\",\n",
    "    \"Liquor Store\": \"Store and Commercial Buildings\",\n",
    "    \"Rental Storage Facility\": \"Store and Commercial Buildings\",\n",
    "    \"Restaurant\": \"Store and Commercial Buildings\",\n",
    "    \"Shopping Mall\": \"Store and Commercial Buildings\",\n",
    "    \"Specialty Store\": \"Store and Commercial Buildings\",\n",
    "    \"Air/Bus/Train Terminal\": \"Transportation Terminals\",\n",
    "    \"Dock/Wharf/Freight/Modal Terminal\": \"Transportation Terminals\",\n",
    "    \"Other/Unknown\": \"Other/Unknown\",\n",
    "}"
   ]
  },
  {
   "cell_type": "code",
   "execution_count": 12,
   "metadata": {},
   "outputs": [],
   "source": [
    "# Bias Desc\n",
    "bmap = {\n",
    "    \"Anti-Mental Disability\": \"Disability\",\n",
    "    \"Anti-Physical Disability\": \"Disability\",\n",
    "    \"Anti-Female\": \"Gender\",\n",
    "    \"Anti-Gender Non-Conforming\": \"Gender Identity\",\n",
    "    \"Anti-Heterosexual\": \"Gender Identity\",\n",
    "    \"Anti-Male\": \"Gender Identity\",\n",
    "    \"Anti-Transgender\": \"Gender Identity\",\n",
    "    \"Anti-American Indian or Alaska Native\": \"Racial or Ethnicity\",\n",
    "    \"Anti-Arab\": \"Racial or Ethnicity\",\n",
    "    \"Anti-Asian\": \"Racial or Ethnicity\",\n",
    "    \"Anti-Black or African American\": \"Racial or Ethnicity\",\n",
    "    \"Anti-Hispanic or Latino\": \"Racial or Ethnicity\",\n",
    "    \"Anti-Multiple Races, Group\": \"Racial or Ethnicity\",\n",
    "    \"Anti-Native Hawaiian or Other Pacific Islander\": \"Racial or Ethnicity\",\n",
    "    \"Anti-Other Race/Ethnicity/Ancestry\": \"Racial or Ethnicity\",\n",
    "    \"Anti-White\": \"Racial or Ethnicity\",\n",
    "    \"Anti-Atheism/Agnosticism\": \"Religion or Belief\",\n",
    "    \"Anti-Buddhist\": \"Religion or Belief\",\n",
    "    \"Anti-Catholic\": \"Religion or Belief\",\n",
    "    \"Anti-Eastern Orthodox (Russian, Greek, Other)\": \"Religion or Belief\",\n",
    "    \"Anti-Hindu\": \"Religion or Belief\",\n",
    "    \"Anti-Islamic (Muslim)\": \"Religion or Belief\",\n",
    "    \"Anti-Jehovah's Witness\": \"Religion or Belief\",\n",
    "    \"Anti-Jewish\": \"Religion or Belief\",\n",
    "    \"Anti-Mormon\": \"Religion or Belief\",\n",
    "    \"Anti-Multiple Religions, Group\": \"Religion or Belief\",\n",
    "    \"Anti-Other Christian\": \"Religion or Belief\",\n",
    "    \"Anti-Other Religion\": \"Religion or Belief\",\n",
    "    \"Anti-Protestant\": \"Religion or Belief\",\n",
    "    \"Anti-Sikh\": \"Religion or Belief\",\n",
    "    \"Anti-Bisexual\": \"Sexual Orientation\",\n",
    "    \"Anti-Gay (Male)\": \"Sexual Orientation\",\n",
    "    \"Anti-Lesbian (Female)\": \"Sexual Orientation\",\n",
    "    \"Anti-Lesbian, Gay, Bisexual, or Transgender (Mixed Group)\": \"Sexual Orientation\",\n",
    "    \"Unknown (offender's motivation not known)\": \"Unknown\",\n",
    "}"
   ]
  },
  {
   "cell_type": "markdown",
   "metadata": {},
   "source": [
    "**3. Parse Multi-Value Columns**"
   ]
  },
  {
   "cell_type": "markdown",
   "metadata": {},
   "source": [
    "Multi-value column will be normalized by creating another table. Data diagram for this implementation are shown as follow:"
   ]
  },
  {
   "cell_type": "code",
   "execution_count": 13,
   "metadata": {},
   "outputs": [],
   "source": [
    "def parseMVC(df, column_name, cluster_map, label):\n",
    "    value = []\n",
    "    iid = df.columns.get_loc(\"INCIDENT_ID\")\n",
    "    cid = df.columns.get_loc(column_name)\n",
    "    for col in df.values.tolist():\n",
    "        for v in col[cid].split(';'):\n",
    "            value.append([col[iid], v, cluster_map[v]])\n",
    "    tdf = pd.DataFrame(value, columns=['Incident_Id', label, 'Cluster'])\n",
    "    return tdf"
   ]
  },
  {
   "cell_type": "code",
   "execution_count": 14,
   "metadata": {},
   "outputs": [
    {
     "name": "stdout",
     "output_type": "stream",
     "text": [
      "(59856, 3)\n"
     ]
    },
    {
     "data": {
      "text/html": [
       "<div>\n",
       "<style scoped>\n",
       "    .dataframe tbody tr th:only-of-type {\n",
       "        vertical-align: middle;\n",
       "    }\n",
       "\n",
       "    .dataframe tbody tr th {\n",
       "        vertical-align: top;\n",
       "    }\n",
       "\n",
       "    .dataframe thead th {\n",
       "        text-align: right;\n",
       "    }\n",
       "</style>\n",
       "<table border=\"1\" class=\"dataframe\">\n",
       "  <thead>\n",
       "    <tr style=\"text-align: right;\">\n",
       "      <th></th>\n",
       "      <th>Incident_Id</th>\n",
       "      <th>Offense</th>\n",
       "      <th>Cluster</th>\n",
       "    </tr>\n",
       "  </thead>\n",
       "  <tbody>\n",
       "    <tr>\n",
       "      <th>0</th>\n",
       "      <td>147593</td>\n",
       "      <td>Aggravated Assault</td>\n",
       "      <td>Assault</td>\n",
       "    </tr>\n",
       "    <tr>\n",
       "      <th>1</th>\n",
       "      <td>147594</td>\n",
       "      <td>Simple Assault</td>\n",
       "      <td>Assault</td>\n",
       "    </tr>\n",
       "    <tr>\n",
       "      <th>2</th>\n",
       "      <td>147595</td>\n",
       "      <td>Simple Assault</td>\n",
       "      <td>Assault</td>\n",
       "    </tr>\n",
       "  </tbody>\n",
       "</table>\n",
       "</div>"
      ],
      "text/plain": [
       "   Incident_Id             Offense  Cluster\n",
       "0       147593  Aggravated Assault  Assault\n",
       "1       147594      Simple Assault  Assault\n",
       "2       147595      Simple Assault  Assault"
      ]
     },
     "execution_count": 14,
     "metadata": {},
     "output_type": "execute_result"
    }
   ],
   "source": [
    "offense_df = parseMVC(df, 'OFFENSE_NAME', omap, 'Offense')\n",
    "location_df = parseMVC(df, 'LOCATION_NAME', lmap, 'Location')\n",
    "bias_df = parseMVC(df, 'BIAS_DESC', bmap, 'Bias')\n",
    "\n",
    "print(offense_df.shape)\n",
    "offense_df.head(3)"
   ]
  },
  {
   "cell_type": "markdown",
   "metadata": {},
   "source": [
    "**4. Rename, Rearangge and Convert DataFrame to .csv**\n",
    "\n",
    "Further analysis will be done on Excel. csv format is choos because it easier to processed."
   ]
  },
  {
   "cell_type": "code",
   "execution_count": 15,
   "metadata": {},
   "outputs": [
    {
     "name": "stdout",
     "output_type": "stream",
     "text": [
      "(57758, 4)\n"
     ]
    },
    {
     "data": {
      "text/html": [
       "<div>\n",
       "<style scoped>\n",
       "    .dataframe tbody tr th:only-of-type {\n",
       "        vertical-align: middle;\n",
       "    }\n",
       "\n",
       "    .dataframe tbody tr th {\n",
       "        vertical-align: top;\n",
       "    }\n",
       "\n",
       "    .dataframe thead th {\n",
       "        text-align: right;\n",
       "    }\n",
       "</style>\n",
       "<table border=\"1\" class=\"dataframe\">\n",
       "  <thead>\n",
       "    <tr style=\"text-align: right;\">\n",
       "      <th></th>\n",
       "      <th>Incident_Id</th>\n",
       "      <th>Year</th>\n",
       "      <th>State</th>\n",
       "      <th>Region</th>\n",
       "    </tr>\n",
       "  </thead>\n",
       "  <tbody>\n",
       "    <tr>\n",
       "      <th>143578</th>\n",
       "      <td>147593</td>\n",
       "      <td>2010</td>\n",
       "      <td>Alaska</td>\n",
       "      <td>West</td>\n",
       "    </tr>\n",
       "    <tr>\n",
       "      <th>143579</th>\n",
       "      <td>147594</td>\n",
       "      <td>2010</td>\n",
       "      <td>Alaska</td>\n",
       "      <td>West</td>\n",
       "    </tr>\n",
       "    <tr>\n",
       "      <th>143580</th>\n",
       "      <td>147595</td>\n",
       "      <td>2010</td>\n",
       "      <td>Alaska</td>\n",
       "      <td>West</td>\n",
       "    </tr>\n",
       "  </tbody>\n",
       "</table>\n",
       "</div>"
      ],
      "text/plain": [
       "        Incident_Id  Year   State Region\n",
       "143578       147593  2010  Alaska   West\n",
       "143579       147594  2010  Alaska   West\n",
       "143580       147595  2010  Alaska   West"
      ]
     },
     "execution_count": 15,
     "metadata": {},
     "output_type": "execute_result"
    }
   ],
   "source": [
    "used_columns = ['INCIDENT_ID', 'DATA_YEAR', 'STATE_NAME', 'REGION_NAME']\n",
    "incident_df = df[used_columns]\n",
    "incident_df.columns = ['Incident_Id', 'Year', 'State', 'Region']\n",
    "\n",
    "print(incident_df.shape)\n",
    "incident_df.head(3)"
   ]
  },
  {
   "cell_type": "code",
   "execution_count": 17,
   "metadata": {},
   "outputs": [],
   "source": [
    "incident_df.to_csv('data/incidet.csv', index=False)\n",
    "offense_df.to_csv('data/offense.csv', index=False)\n",
    "location_df.to_csv('data/location.csv', index=False)\n",
    "bias_df.to_csv('data/bias.csv', index=False)"
   ]
  }
 ],
 "metadata": {
  "kernelspec": {
   "display_name": "Python 3",
   "language": "python",
   "name": "python3"
  },
  "language_info": {
   "codemirror_mode": {
    "name": "ipython",
    "version": 3
   },
   "file_extension": ".py",
   "mimetype": "text/x-python",
   "name": "python",
   "nbconvert_exporter": "python",
   "pygments_lexer": "ipython3",
   "version": "3.7.4"
  }
 },
 "nbformat": 4,
 "nbformat_minor": 2
}
